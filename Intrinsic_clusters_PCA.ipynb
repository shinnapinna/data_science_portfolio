{
 "cells": [
  {
   "cell_type": "code",
   "execution_count": 1,
   "id": "6e5da999-dbff-431b-b072-2d2ea9025571",
   "metadata": {},
   "outputs": [
    {
     "data": {
      "text/html": [
       "<div>\n",
       "<style scoped>\n",
       "    .dataframe tbody tr th:only-of-type {\n",
       "        vertical-align: middle;\n",
       "    }\n",
       "\n",
       "    .dataframe tbody tr th {\n",
       "        vertical-align: top;\n",
       "    }\n",
       "\n",
       "    .dataframe thead th {\n",
       "        text-align: right;\n",
       "    }\n",
       "</style>\n",
       "<table border=\"1\" class=\"dataframe\">\n",
       "  <thead>\n",
       "    <tr style=\"text-align: right;\">\n",
       "      <th></th>\n",
       "      <th>Unnamed: 0</th>\n",
       "      <th>Delay</th>\n",
       "      <th>Rheobase</th>\n",
       "      <th>Rin</th>\n",
       "      <th>tau</th>\n",
       "      <th>Max</th>\n",
       "      <th>Unnamed: 6</th>\n",
       "    </tr>\n",
       "  </thead>\n",
       "  <tbody>\n",
       "    <tr>\n",
       "      <th>0</th>\n",
       "      <td>1</td>\n",
       "      <td>27.900000</td>\n",
       "      <td>75.80</td>\n",
       "      <td>258.000</td>\n",
       "      <td>12.3000</td>\n",
       "      <td>143.0</td>\n",
       "      <td>NaN</td>\n",
       "    </tr>\n",
       "    <tr>\n",
       "      <th>1</th>\n",
       "      <td>2</td>\n",
       "      <td>331.900000</td>\n",
       "      <td>44.80</td>\n",
       "      <td>412.000</td>\n",
       "      <td>13.4708</td>\n",
       "      <td>66.0</td>\n",
       "      <td>NaN</td>\n",
       "    </tr>\n",
       "    <tr>\n",
       "      <th>2</th>\n",
       "      <td>3</td>\n",
       "      <td>134.800000</td>\n",
       "      <td>36.00</td>\n",
       "      <td>536.500</td>\n",
       "      <td>23.9807</td>\n",
       "      <td>64.0</td>\n",
       "      <td>NaN</td>\n",
       "    </tr>\n",
       "    <tr>\n",
       "      <th>3</th>\n",
       "      <td>4</td>\n",
       "      <td>176.800000</td>\n",
       "      <td>26.60</td>\n",
       "      <td>692.000</td>\n",
       "      <td>27.1597</td>\n",
       "      <td>25.0</td>\n",
       "      <td>NaN</td>\n",
       "    </tr>\n",
       "    <tr>\n",
       "      <th>4</th>\n",
       "      <td>5</td>\n",
       "      <td>41.420000</td>\n",
       "      <td>104.00</td>\n",
       "      <td>318.632</td>\n",
       "      <td>13.0589</td>\n",
       "      <td>30.0</td>\n",
       "      <td>NaN</td>\n",
       "    </tr>\n",
       "    <tr>\n",
       "      <th>...</th>\n",
       "      <td>...</td>\n",
       "      <td>...</td>\n",
       "      <td>...</td>\n",
       "      <td>...</td>\n",
       "      <td>...</td>\n",
       "      <td>...</td>\n",
       "      <td>...</td>\n",
       "    </tr>\n",
       "    <tr>\n",
       "      <th>62</th>\n",
       "      <td>63</td>\n",
       "      <td>332.633343</td>\n",
       "      <td>90.67</td>\n",
       "      <td>192.530</td>\n",
       "      <td>5.6200</td>\n",
       "      <td>56.0</td>\n",
       "      <td>NaN</td>\n",
       "    </tr>\n",
       "    <tr>\n",
       "      <th>63</th>\n",
       "      <td>64</td>\n",
       "      <td>193.566657</td>\n",
       "      <td>146.67</td>\n",
       "      <td>270.960</td>\n",
       "      <td>11.8900</td>\n",
       "      <td>31.0</td>\n",
       "      <td>NaN</td>\n",
       "    </tr>\n",
       "    <tr>\n",
       "      <th>64</th>\n",
       "      <td>65</td>\n",
       "      <td>48.466670</td>\n",
       "      <td>92.67</td>\n",
       "      <td>231.920</td>\n",
       "      <td>9.0900</td>\n",
       "      <td>38.4</td>\n",
       "      <td>NaN</td>\n",
       "    </tr>\n",
       "    <tr>\n",
       "      <th>65</th>\n",
       "      <td>66</td>\n",
       "      <td>21.166670</td>\n",
       "      <td>412.67</td>\n",
       "      <td>127.940</td>\n",
       "      <td>12.0100</td>\n",
       "      <td>0.0</td>\n",
       "      <td>NaN</td>\n",
       "    </tr>\n",
       "    <tr>\n",
       "      <th>66</th>\n",
       "      <td>67</td>\n",
       "      <td>198.900000</td>\n",
       "      <td>80.00</td>\n",
       "      <td>217.550</td>\n",
       "      <td>8.4300</td>\n",
       "      <td>33.2</td>\n",
       "      <td>NaN</td>\n",
       "    </tr>\n",
       "  </tbody>\n",
       "</table>\n",
       "<p>67 rows × 7 columns</p>\n",
       "</div>"
      ],
      "text/plain": [
       "    Unnamed: 0       Delay  Rheobase      Rin      tau    Max  Unnamed: 6\n",
       "0            1   27.900000     75.80  258.000  12.3000  143.0         NaN\n",
       "1            2  331.900000     44.80  412.000  13.4708   66.0         NaN\n",
       "2            3  134.800000     36.00  536.500  23.9807   64.0         NaN\n",
       "3            4  176.800000     26.60  692.000  27.1597   25.0         NaN\n",
       "4            5   41.420000    104.00  318.632  13.0589   30.0         NaN\n",
       "..         ...         ...       ...      ...      ...    ...         ...\n",
       "62          63  332.633343     90.67  192.530   5.6200   56.0         NaN\n",
       "63          64  193.566657    146.67  270.960  11.8900   31.0         NaN\n",
       "64          65   48.466670     92.67  231.920   9.0900   38.4         NaN\n",
       "65          66   21.166670    412.67  127.940  12.0100    0.0         NaN\n",
       "66          67  198.900000     80.00  217.550   8.4300   33.2         NaN\n",
       "\n",
       "[67 rows x 7 columns]"
      ]
     },
     "execution_count": 1,
     "metadata": {},
     "output_type": "execute_result"
    }
   ],
   "source": [
    "import pandas as pd \n",
    "import numpy as np \n",
    "import seaborn as sns \n",
    "import matplotlib.pyplot as plt\n",
    "\n",
    "\n",
    "data = pd.read_csv(\"../datasets/Project_datasets/intrinsic_cluster_analysis.csv\")\n",
    "data"
   ]
  },
  {
   "cell_type": "code",
   "execution_count": 2,
   "id": "51569849-e5ba-4df4-b384-8ca6ec446cbf",
   "metadata": {},
   "outputs": [
    {
     "name": "stdout",
     "output_type": "stream",
     "text": [
      "<class 'pandas.core.frame.DataFrame'>\n",
      "RangeIndex: 67 entries, 0 to 66\n",
      "Data columns (total 6 columns):\n",
      " #   Column              Non-Null Count  Dtype  \n",
      "---  ------              --------------  -----  \n",
      " 0   Delay               67 non-null     float64\n",
      " 1   Rheobase            67 non-null     float64\n",
      " 2   Rin                 67 non-null     float64\n",
      " 3   tau                 67 non-null     float64\n",
      " 4   Max                 67 non-null     float64\n",
      " 5   Putative Cell Type  67 non-null     object \n",
      "dtypes: float64(5), object(1)\n",
      "memory usage: 3.3+ KB\n",
      "None\n"
     ]
    },
    {
     "data": {
      "text/html": [
       "<div>\n",
       "<style scoped>\n",
       "    .dataframe tbody tr th:only-of-type {\n",
       "        vertical-align: middle;\n",
       "    }\n",
       "\n",
       "    .dataframe tbody tr th {\n",
       "        vertical-align: top;\n",
       "    }\n",
       "\n",
       "    .dataframe thead th {\n",
       "        text-align: right;\n",
       "    }\n",
       "</style>\n",
       "<table border=\"1\" class=\"dataframe\">\n",
       "  <thead>\n",
       "    <tr style=\"text-align: right;\">\n",
       "      <th></th>\n",
       "      <th>Delay</th>\n",
       "      <th>Rheobase</th>\n",
       "      <th>Rin</th>\n",
       "      <th>tau</th>\n",
       "      <th>Max</th>\n",
       "      <th>Putative Cell Type</th>\n",
       "    </tr>\n",
       "  </thead>\n",
       "  <tbody>\n",
       "    <tr>\n",
       "      <th>0</th>\n",
       "      <td>27.90</td>\n",
       "      <td>75.8</td>\n",
       "      <td>258.000</td>\n",
       "      <td>12.3000</td>\n",
       "      <td>143.0</td>\n",
       "      <td>VIP+</td>\n",
       "    </tr>\n",
       "    <tr>\n",
       "      <th>1</th>\n",
       "      <td>331.90</td>\n",
       "      <td>44.8</td>\n",
       "      <td>412.000</td>\n",
       "      <td>13.4708</td>\n",
       "      <td>66.0</td>\n",
       "      <td>VIP+</td>\n",
       "    </tr>\n",
       "    <tr>\n",
       "      <th>2</th>\n",
       "      <td>134.80</td>\n",
       "      <td>36.0</td>\n",
       "      <td>536.500</td>\n",
       "      <td>23.9807</td>\n",
       "      <td>64.0</td>\n",
       "      <td>VIP+</td>\n",
       "    </tr>\n",
       "    <tr>\n",
       "      <th>3</th>\n",
       "      <td>176.80</td>\n",
       "      <td>26.6</td>\n",
       "      <td>692.000</td>\n",
       "      <td>27.1597</td>\n",
       "      <td>25.0</td>\n",
       "      <td>VIP+</td>\n",
       "    </tr>\n",
       "    <tr>\n",
       "      <th>4</th>\n",
       "      <td>41.42</td>\n",
       "      <td>104.0</td>\n",
       "      <td>318.632</td>\n",
       "      <td>13.0589</td>\n",
       "      <td>30.0</td>\n",
       "      <td>VIP+</td>\n",
       "    </tr>\n",
       "  </tbody>\n",
       "</table>\n",
       "</div>"
      ],
      "text/plain": [
       "    Delay  Rheobase      Rin      tau    Max Putative Cell Type\n",
       "0   27.90      75.8  258.000  12.3000  143.0               VIP+\n",
       "1  331.90      44.8  412.000  13.4708   66.0               VIP+\n",
       "2  134.80      36.0  536.500  23.9807   64.0               VIP+\n",
       "3  176.80      26.6  692.000  27.1597   25.0               VIP+\n",
       "4   41.42     104.0  318.632  13.0589   30.0               VIP+"
      ]
     },
     "execution_count": 2,
     "metadata": {},
     "output_type": "execute_result"
    }
   ],
   "source": [
    "cleaned_data = data.drop(['Unnamed: 0'], axis = 1) #drop unwanted columns\n",
    "cleaned_data.rename(columns={'Unnamed: 6':'Putative Cell Type'}, inplace=True) #Rename Column with putative cell type\n",
    "cleaned_data.loc[0:16, 'Putative Cell Type'] = 'VIP+'\n",
    "cleaned_data.loc[17:45, 'Putative Cell Type'] = 'NDNF-Like'\n",
    "cleaned_data.loc[46:, 'Putative Cell Type'] = 'Jini Cells'\n",
    "print(cleaned_data.info())\n",
    "cleaned_data.head()"
   ]
  },
  {
   "cell_type": "code",
   "execution_count": 4,
   "id": "9e79dfc2-d937-4fb8-b6d2-d2db1a876a1f",
   "metadata": {},
   "outputs": [],
   "source": [
    "def show_boxplot(df):\n",
    "    plt.rcParams['figure.figsize'] = [14,6]\n",
    "    sns.boxplot(data = df, orient=\"v\")\n",
    "    plt.title(\"Outliers Distribution\", fontsize = 16)\n",
    "    plt.ylabel(\"Range\", fontweight = 'bold')\n",
    "    plt.xlabel(\"Attributes\", fontweight = 'bold')"
   ]
  },
  {
   "cell_type": "code",
   "execution_count": 5,
   "id": "3a81ac23-c678-4b30-9ff7-dd4a26ebb7b8",
   "metadata": {},
   "outputs": [
    {
     "name": "stdout",
     "output_type": "stream",
     "text": [
      "    Delay  Rheobase      Rin      tau    Max\n",
      "0   27.90      75.8  258.000  12.3000  143.0\n",
      "1  331.90      44.8  412.000  13.4708   66.0\n",
      "2  134.80      36.0  536.500  23.9807   64.0\n",
      "3  176.80      26.6  692.000  27.1597   25.0\n",
      "4   41.42     104.0  318.632  13.0589   30.0\n",
      "Scaled data shape is (67, 5)\n"
     ]
    },
    {
     "data": {
      "image/png": "[encoded data removed]",
      "text/plain": [
       "<Figure size 1400x600 with 1 Axes>"
      ]
     },
     "metadata": {},
     "output_type": "display_data"
    }
   ],
   "source": [
    "from sklearn.preprocessing import StandardScaler\n",
    "\n",
    "data_scaler = StandardScaler()\n",
    "\n",
    "df = pd.DataFrame(cleaned_data.iloc[:,:5]) #dropping putative cell type as scaling will affect it weirdly\n",
    "print (df.head())\n",
    "\n",
    "scaled_data = data_scaler.fit_transform(df)\n",
    "print ('Scaled data shape is',scaled_data.shape) #The shape of the data remains the same as the cleaned data (46 rows, 5 columns) because the normalization does not affect the same of the data.\n",
    "\n",
    "show_boxplot(scaled_data)"
   ]
  },
  {
   "cell_type": "code",
   "execution_count": 9,
   "id": "ae0f478c-de84-4535-857d-1e86847d89eb",
   "metadata": {},
   "outputs": [
    {
     "data": {
      "text/html": [
       "<div>\n",
       "<style scoped>\n",
       "    .dataframe tbody tr th:only-of-type {\n",
       "        vertical-align: middle;\n",
       "    }\n",
       "\n",
       "    .dataframe tbody tr th {\n",
       "        vertical-align: top;\n",
       "    }\n",
       "\n",
       "    .dataframe thead th {\n",
       "        text-align: right;\n",
       "    }\n",
       "</style>\n",
       "<table border=\"1\" class=\"dataframe\">\n",
       "  <thead>\n",
       "    <tr style=\"text-align: right;\">\n",
       "      <th></th>\n",
       "      <th>Delay</th>\n",
       "      <th>Rheobase</th>\n",
       "      <th>Input Resistance</th>\n",
       "      <th>Decay Tau</th>\n",
       "      <th>Max Firing</th>\n",
       "      <th>Putative Cell Type</th>\n",
       "    </tr>\n",
       "  </thead>\n",
       "  <tbody>\n",
       "    <tr>\n",
       "      <th>0</th>\n",
       "      <td>-1.597525</td>\n",
       "      <td>-0.532602</td>\n",
       "      <td>-0.435153</td>\n",
       "      <td>-0.318385</td>\n",
       "      <td>4.578711</td>\n",
       "      <td>VIP+</td>\n",
       "    </tr>\n",
       "    <tr>\n",
       "      <th>1</th>\n",
       "      <td>0.701864</td>\n",
       "      <td>-0.944776</td>\n",
       "      <td>0.312130</td>\n",
       "      <td>-0.156236</td>\n",
       "      <td>1.002232</td>\n",
       "      <td>VIP+</td>\n",
       "    </tr>\n",
       "    <tr>\n",
       "      <th>2</th>\n",
       "      <td>-0.788957</td>\n",
       "      <td>-1.061780</td>\n",
       "      <td>0.916265</td>\n",
       "      <td>1.299325</td>\n",
       "      <td>0.909337</td>\n",
       "      <td>VIP+</td>\n",
       "    </tr>\n",
       "    <tr>\n",
       "      <th>3</th>\n",
       "      <td>-0.471278</td>\n",
       "      <td>-1.186761</td>\n",
       "      <td>1.670826</td>\n",
       "      <td>1.739598</td>\n",
       "      <td>-0.902127</td>\n",
       "      <td>VIP+</td>\n",
       "    </tr>\n",
       "    <tr>\n",
       "      <th>4</th>\n",
       "      <td>-1.495263</td>\n",
       "      <td>-0.157658</td>\n",
       "      <td>-0.140937</td>\n",
       "      <td>-0.213282</td>\n",
       "      <td>-0.669888</td>\n",
       "      <td>VIP+</td>\n",
       "    </tr>\n",
       "  </tbody>\n",
       "</table>\n",
       "</div>"
      ],
      "text/plain": [
       "      Delay  Rheobase  Input Resistance  Decay Tau  Max Firing  \\\n",
       "0 -1.597525 -0.532602         -0.435153  -0.318385    4.578711   \n",
       "1  0.701864 -0.944776          0.312130  -0.156236    1.002232   \n",
       "2 -0.788957 -1.061780          0.916265   1.299325    0.909337   \n",
       "3 -0.471278 -1.186761          1.670826   1.739598   -0.902127   \n",
       "4 -1.495263 -0.157658         -0.140937  -0.213282   -0.669888   \n",
       "\n",
       "  Putative Cell Type  \n",
       "0               VIP+  \n",
       "1               VIP+  \n",
       "2               VIP+  \n",
       "3               VIP+  \n",
       "4               VIP+  "
      ]
     },
     "execution_count": 9,
     "metadata": {},
     "output_type": "execute_result"
    }
   ],
   "source": [
    "#Re-append 'putative cell type' column onto data frame\n",
    "df_scaled_data = pd.DataFrame(scaled_data)\n",
    "df_scaled_data['Putative Cell Type'] = cleaned_data['Putative Cell Type']\n",
    "df_scaled_data.rename(columns={0:'Delay', 1:'Rheobase', 2:'Input Resistance', 3:'Decay Tau', 4:'Max Firing'}, inplace=True) \n",
    "df_scaled_data.head()"
   ]
  },
  {
   "cell_type": "markdown",
   "id": "15ed5e3b-1eeb-4396-89af-5b48e410aac3",
   "metadata": {},
   "source": [
    "## Currently data is 5-D, Run PCA to reduce dimensions"
   ]
  },
  {
   "cell_type": "markdown",
   "id": "325fc0f5-5a3d-4f20-8c82-38526cfddeb0",
   "metadata": {},
   "source": [
    "### Prepare Data & Taregt"
   ]
  },
  {
   "cell_type": "code",
   "execution_count": 10,
   "id": "83d9230b-11c3-4641-983e-f4cca4372229",
   "metadata": {},
   "outputs": [
    {
     "name": "stdout",
     "output_type": "stream",
     "text": [
      "(67, 5)\n"
     ]
    },
    {
     "data": {
      "text/plain": [
       "0           VIP+\n",
       "1           VIP+\n",
       "2           VIP+\n",
       "3           VIP+\n",
       "4           VIP+\n",
       "         ...    \n",
       "62    Jini Cells\n",
       "63    Jini Cells\n",
       "64    Jini Cells\n",
       "65    Jini Cells\n",
       "66    Jini Cells\n",
       "Name: Putative Cell Type, Length: 67, dtype: object"
      ]
     },
     "execution_count": 10,
     "metadata": {},
     "output_type": "execute_result"
    }
   ],
   "source": [
    "# prepare the data\n",
    "X = df_scaled_data.iloc[:,0:5]\n",
    "print(X.shape)\n",
    "\n",
    "# prepare the target\n",
    "target = df_scaled_data.iloc[:,5]\n",
    "target"
   ]
  },
  {
   "cell_type": "markdown",
   "id": "657a7ff4-8b8b-4f81-9bff-d3a06e0ee701",
   "metadata": {},
   "source": [
    "### Run Co-variance Matrix"
   ]
  },
  {
   "cell_type": "code",
   "execution_count": 11,
   "id": "df2a97b7-f5b7-4e36-8743-1dad0928431e",
   "metadata": {},
   "outputs": [
    {
     "name": "stdout",
     "output_type": "stream",
     "text": [
      "Features shape is (5, 67)\n",
      "\n",
      "Features are:\n",
      "Delay               0.701864\n",
      "Rheobase           -0.944776\n",
      "Input Resistance    0.312130\n",
      "Decay Tau          -0.156236\n",
      "Max Firing          1.002232\n",
      "Name: 1, dtype: float64\n",
      "Cov matrix shape is (5, 5)\n",
      "\n",
      "Cov matrix is\n"
     ]
    },
    {
     "data": {
      "text/plain": [
       "array([[ 1.01515152, -0.01780906, -0.24247339, -0.27041032,  0.08900024],\n",
       "       [-0.01780906,  1.01515152, -0.6654723 , -0.53543011,  0.13060562],\n",
       "       [-0.24247339, -0.6654723 ,  1.01515152,  0.92882034, -0.26405607],\n",
       "       [-0.27041032, -0.53543011,  0.92882034,  1.01515152, -0.29634951],\n",
       "       [ 0.08900024,  0.13060562, -0.26405607, -0.29634951,  1.01515152]])"
      ]
     },
     "execution_count": 11,
     "metadata": {},
     "output_type": "execute_result"
    }
   ],
   "source": [
    "features = X.T # flip rows and columns\n",
    "print(\"Features shape is\", features.shape)\n",
    "print()\n",
    "print(\"Features are:\")\n",
    "print (features[1])\n",
    "# Covariance matrix is the variance of each variable in relation to all others\n",
    "# diagonals are variances with itself, hence is just a measure of variance\n",
    "# diagonals are identical, so matrix is symmetrical, thanks to the scaling (mean-centering)\n",
    "cov_matrix = np.cov(features)\n",
    "print()\n",
    "print(\"Cov matrix shape is\", cov_matrix.shape)\n",
    "print()\n",
    "print(\"Cov matrix is\")\n",
    "cov_matrix"
   ]
  },
  {
   "cell_type": "code",
   "execution_count": 18,
   "id": "e60d4b84-91b7-4873-b1f6-042df02f7ad0",
   "metadata": {},
   "outputs": [
    {
     "data": {
      "text/plain": [
       "<Axes: >"
      ]
     },
     "execution_count": 18,
     "metadata": {},
     "output_type": "execute_result"
    },
    {
     "data": {
      "image/png": "[encoded data removed]",
      "text/plain": [
       "<Figure size 1400x600 with 2 Axes>"
      ]
     },
     "metadata": {},
     "output_type": "display_data"
    }
   ],
   "source": [
    "sns.heatmap(cov_matrix, \n",
    "            xticklabels=['Delay', 'Rheobase', 'Input Resistance', 'Decay Tau', 'Max Firing'], \n",
    "            yticklabels = ['Delay', 'Rheobase', 'Input Resistance', 'Decay Tau', 'Max Firing'], \n",
    "            linewidth=.5, \n",
    "            vmin = -1.0, \n",
    "            vmax = 1.0,\n",
    "            annot=True\n",
    "           )"
   ]
  },
  {
   "cell_type": "markdown",
   "id": "dbaad776-ab09-4387-958b-8eb70880c351",
   "metadata": {},
   "source": [
    "### At this stage I could drop values that have a high co-variance but since this is already known (i.e. these are co-dependent biophysical properties i'm not going to at this stage)"
   ]
  },
  {
   "cell_type": "markdown",
   "id": "c6dcabbd-f333-4fa6-aed7-54483998b0dc",
   "metadata": {},
   "source": [
    "### Run Eigen-decomposition & Data Transformation"
   ]
  },
  {
   "cell_type": "code",
   "execution_count": 19,
   "id": "bc044c63-c476-48f6-8c36-13dcb8701a07",
   "metadata": {},
   "outputs": [
    {
     "name": "stdout",
     "output_type": "stream",
     "text": [
      "The eigen values are\n",
      "[2.6196065  1.04111819 0.90869641 0.43550276 0.07083371]\n",
      "The eigen vectors are\n",
      "[[-0.1962199   0.84997514  0.35034001  0.34081103 -0.01223679]\n",
      " [-0.45801736 -0.45328465  0.12043448  0.73708445 -0.16418029]\n",
      " [ 0.59542848  0.06779803 -0.11376062  0.26384058 -0.74720481]\n",
      " [ 0.57730322 -0.02754604 -0.07052344  0.49668378  0.64365664]\n",
      " [-0.25279194  0.25830201 -0.91915308  0.15571683  0.0169173 ]]\n"
     ]
    }
   ],
   "source": [
    "eigen_values, eigen_vectors = np.linalg.eig(cov_matrix)\n",
    "print('The eigen values are')\n",
    "print (eigen_values)\n",
    "print('The eigen vectors are')\n",
    "print (eigen_vectors)"
   ]
  },
  {
   "cell_type": "code",
   "execution_count": 20,
   "id": "7dd4a519-7c7a-4e2b-8ab3-4bcecccfdadc",
   "metadata": {},
   "outputs": [
    {
     "data": {
      "text/plain": [
       "array([[-0.1962199 ,  0.84997514],\n",
       "       [-0.45801736, -0.45328465],\n",
       "       [ 0.59542848,  0.06779803],\n",
       "       [ 0.57730322, -0.02754604],\n",
       "       [-0.25279194,  0.25830201]])"
      ]
     },
     "execution_count": 20,
     "metadata": {},
     "output_type": "execute_result"
    }
   ],
   "source": [
    "n_components = 2 # you can select any number of components\n",
    "eigenvector_subset = eigen_vectors[:, 0:n_components]\n",
    "eigenvector_subset"
   ]
  },
  {
   "cell_type": "code",
   "execution_count": 21,
   "id": "5e2b91c9-73dc-46ec-82c2-b459529d5de6",
   "metadata": {},
   "outputs": [
    {
     "name": "stdout",
     "output_type": "stream",
     "text": [
      "Subset shape (5, 2) (2, 5)\n",
      "Scaled shape (67, 5) (5, 67)\n",
      "Transformed shape untransposed (2, 67)\n",
      "Transformed shape (67, 2)\n",
      "Transformed sample [[-1.04296096  0.04552177]\n",
      " [ 0.13730334  1.30916358]\n",
      " [ 1.70692414  0.07190773]\n",
      " [ 2.86321497 -0.03029556]\n",
      " [ 0.3279065  -1.37618608]\n",
      " [ 1.86399183 -0.98225805]\n",
      " [ 2.77396582 -0.18428092]\n",
      " [ 2.90228611 -0.9483066 ]\n",
      " [ 3.24659359  0.137223  ]\n",
      " [ 2.95947637 -0.31202469]]\n"
     ]
    }
   ],
   "source": [
    "print(\"Subset shape\", eigenvector_subset.shape, eigenvector_subset.transpose().shape)\n",
    "print(\"Scaled shape\", X.shape, X.transpose().shape)\n",
    "\n",
    "X_reduced = np.dot(eigenvector_subset.transpose(), X.transpose()).transpose()\n",
    "print(\"Transformed shape untransposed\", np.dot(eigenvector_subset.transpose(), X.transpose()).shape)\n",
    "print(\"Transformed shape\", X_reduced.shape)\n",
    "print(\"Transformed sample\", X_reduced[:10])"
   ]
  },
  {
   "cell_type": "code",
   "execution_count": 23,
   "id": "6fb5278c-c70a-4e77-9ba5-e47d3a3a5142",
   "metadata": {},
   "outputs": [
    {
     "data": {
      "text/plain": [
       "<Axes: xlabel='PC1', ylabel='PC2'>"
      ]
     },
     "execution_count": 23,
     "metadata": {},
     "output_type": "execute_result"
    },
    {
     "data": {
      "image/png": "[encoded data removed]",
      "text/plain": [
       "<Figure size 600x600 with 1 Axes>"
      ]
     },
     "metadata": {},
     "output_type": "display_data"
    }
   ],
   "source": [
    "# Creating a Pandas DataFrame of reduced Dataset\n",
    "principal_df = pd.DataFrame(X_reduced, columns = ['PC1','PC2'])\n",
    " \n",
    "# Concat it with target variable to create a complete Dataset\n",
    "principal_df = pd.concat([principal_df, pd.DataFrame(target)], axis=1)\n",
    "\n",
    "plt.figure(figsize=(6,6))\n",
    "sns.scatterplot(data=principal_df, x='PC1', y='PC2', hue='Putative Cell Type', s=60, palette='magma')"
   ]
  },
  {
   "cell_type": "code",
   "execution_count": 23,
   "id": "73e8944a-e94e-4a80-84ef-5bffb4cf72b8",
   "metadata": {},
   "outputs": [
    {
     "name": "stdout",
     "output_type": "stream",
     "text": [
      "1.0\n",
      "[0.5161015785932799, 0.20511582327043107, 0.1790267556168585, 0.08580054359749098, 0.013955298921939549]\n"
     ]
    }
   ],
   "source": [
    "explained_variances = []\n",
    "for i in range(len(eigen_values)):\n",
    "    explained_variances.append(eigen_values[i] / np.sum(eigen_values))\n",
    " \n",
    "print(np.sum(explained_variances))\n",
    "print(explained_variances)"
   ]
  },
  {
   "cell_type": "code",
   "execution_count": 22,
   "id": "1ef65602-d29b-47b0-b986-32140160ee71",
   "metadata": {},
   "outputs": [],
   "source": [
    "from sklearn.ensemble import RandomForestClassifier"
   ]
  },
  {
   "cell_type": "code",
   "execution_count": 24,
   "id": "e28b2f3f-f5aa-4d3f-9645-c25a76a61667",
   "metadata": {},
   "outputs": [
    {
     "data": {
      "text/plain": [
       "array([[-1.04296096e+00, -4.55217663e-02,  4.76040021e+00,\n",
       "        -4.96992414e-01, -3.04668736e-01],\n",
       "       [ 1.37303339e-01, -1.30916358e+00,  8.13586981e-01,\n",
       "        -2.96359184e-01,  1.70307143e-01],\n",
       "       [ 1.70692414e+00, -7.19077326e-02,  1.43596531e+00,\n",
       "        -2.28061163e-02, -3.51043055e-01],\n",
       "       [ 2.86321497e+00,  3.02955615e-02, -2.08401334e-01,\n",
       "         1.29025593e-01, -5.66028147e-02],\n",
       "       [ 3.27906499e-01,  1.37618608e+00, -1.03966092e-01,\n",
       "        -8.73240354e-01, -8.77549076e-04],\n",
       "       [ 1.86399183e+00,  9.82258052e-01, -7.10199967e-01,\n",
       "        -7.43208287e-01,  7.39717659e-01],\n",
       "       [ 2.77396582e+00,  1.84280918e-01,  8.08830972e-02,\n",
       "         1.83886131e-03, -2.55251149e-01],\n",
       "       [ 2.90228611e+00,  9.48306598e-01, -7.28198603e-01,\n",
       "        -5.53945988e-01,  2.35146716e-01],\n",
       "       [ 3.24659359e+00, -1.37222996e-01,  3.80955381e-01,\n",
       "         5.58221365e-01, -2.02958510e-01],\n",
       "       [ 2.95947637e+00,  3.12024692e-01, -6.39970472e-02,\n",
       "         1.30914986e-01, -6.78996994e-01],\n",
       "       [ 2.49256579e+00,  4.08639476e-01, -6.94232051e-01,\n",
       "        -2.71410166e-01, -1.75516095e-01],\n",
       "       [ 2.87987960e+00,  9.40593655e-03,  8.57490850e-01,\n",
       "         8.24730521e-02, -1.60114202e-01],\n",
       "       [ 3.35228772e+00, -4.51174410e-01, -1.41913226e-01,\n",
       "         3.76985603e-01,  3.90262296e-01],\n",
       "       [ 1.06317494e+00,  9.15641126e-01, -5.10388967e-01,\n",
       "        -4.58484426e-01, -2.55550328e-01],\n",
       "       [ 2.92600849e+00,  6.06476715e-01,  1.48688404e+00,\n",
       "         5.55481396e-01,  1.12854650e+00],\n",
       "       [ 2.48552626e+00,  2.45488221e-01,  7.36243187e-01,\n",
       "         2.40116040e-01, -2.63020683e-01],\n",
       "       [ 5.32836848e+00, -5.52558761e-01, -2.76214385e-01,\n",
       "         1.78461865e+00,  3.45054550e-02],\n",
       "       [-1.59447804e+00, -3.17397893e-01,  7.16409409e-02,\n",
       "         2.18749005e-01,  4.52479310e-02],\n",
       "       [-5.53251480e-01, -2.81654303e-01,  4.69871502e-01,\n",
       "         1.98352151e-01, -1.01534882e-01],\n",
       "       [-1.15214407e+00, -8.48728381e-01,  2.86239683e-01,\n",
       "        -3.18570391e-01,  2.52305255e-02],\n",
       "       [-9.88429748e-01,  5.33026912e-01,  1.76795738e+00,\n",
       "         1.86976147e-02, -3.11896657e-01],\n",
       "       [-1.90017869e+00, -1.19243995e+00,  4.26588652e-01,\n",
       "         3.57341945e-01,  9.65221863e-02],\n",
       "       [-1.41835788e+00,  1.19982288e+00,  1.94862347e-01,\n",
       "         7.79523627e-01, -1.67709384e-01],\n",
       "       [ 2.53833716e-01, -9.28954092e-01, -3.61234384e-01,\n",
       "         1.12310362e+00, -4.84046131e-01],\n",
       "       [-1.12459730e+00, -1.05690594e+00, -5.32592974e-01,\n",
       "         4.51809648e-02,  8.95215730e-02],\n",
       "       [-2.33565387e+00,  1.33822705e+00,  1.12200030e+00,\n",
       "         1.24120438e+00,  1.55122444e-01],\n",
       "       [-7.45020516e-01,  7.79242067e-01, -3.48141710e-02,\n",
       "        -4.43851757e-01, -9.13154183e-02],\n",
       "       [-1.67741093e+00,  1.99883680e+00,  1.08267055e+00,\n",
       "         3.40885211e-01,  1.00233043e-02],\n",
       "       [-1.05763034e+00,  2.18355328e+00,  1.05036817e-02,\n",
       "        -4.66518696e-02,  2.38801926e-01],\n",
       "       [-1.31885346e+00,  2.59828309e-01,  1.02342671e+00,\n",
       "        -1.10615579e-01,  1.01623861e-01],\n",
       "       [-1.58504987e+00, -2.64541039e-01,  1.75364156e-01,\n",
       "         6.16674686e-01,  1.58830187e-01],\n",
       "       [-1.23352728e+00, -7.38767827e-01,  1.80508079e-01,\n",
       "         9.45064502e-01, -4.21490652e-02],\n",
       "       [ 5.22775759e-01, -1.38865041e-02,  1.11917583e+00,\n",
       "        -5.03982949e-01,  3.07831012e-01],\n",
       "       [-1.76101221e+00,  5.59635713e-01,  5.52735492e-01,\n",
       "         1.01346090e+00,  8.28851325e-02],\n",
       "       [-4.92747809e-01, -1.24495891e+00, -6.74215260e-01,\n",
       "         3.84802214e-01, -6.70459357e-02],\n",
       "       [-7.52419950e-01, -7.13758107e-01, -3.45990130e-01,\n",
       "         8.59782754e-01,  6.14514842e-02],\n",
       "       [-8.23028266e-01, -1.70691899e+00,  6.04540130e-02,\n",
       "         1.32563942e-01,  9.57000460e-02],\n",
       "       [-9.39434124e-01, -5.75450641e-01, -6.79843364e-01,\n",
       "         4.93714302e-01, -1.72411394e-01],\n",
       "       [-4.60216385e-01,  1.49864100e+00,  1.03191338e+00,\n",
       "        -3.03467218e-01, -1.07288828e-02],\n",
       "       [-1.09310329e+00, -1.51112123e+00, -7.46309234e-01,\n",
       "         1.61504126e-01,  1.31518527e-01],\n",
       "       [-1.65457892e+00, -7.31086017e-02, -3.37909984e-01,\n",
       "         8.55298690e-01,  3.98426922e-02],\n",
       "       [-1.02420539e+00, -6.80065109e-01,  2.42790617e-01,\n",
       "         4.46375707e-01,  2.18565560e-01],\n",
       "       [-9.81934377e-01, -1.25377973e+00, -5.03099109e-01,\n",
       "         7.87190300e-01, -2.13460873e-01],\n",
       "       [-5.41781665e-01, -1.40876555e+00, -4.43463834e-01,\n",
       "        -1.21689009e-01,  5.96000579e-02],\n",
       "       [-9.79453263e-01, -4.13505036e-01, -1.03494239e-01,\n",
       "         1.30516021e-02,  1.32686507e-01],\n",
       "       [ 9.20666611e-02, -2.43820776e-01,  1.34247696e-01,\n",
       "         2.80831034e-01, -3.42248218e-01],\n",
       "       [-7.23538378e-01,  7.09340673e-02, -1.33518075e+00,\n",
       "        -5.42601744e-01, -2.06311642e-01],\n",
       "       [ 5.64529043e-01, -9.12529901e-01, -1.03975194e+00,\n",
       "        -1.06105909e-01,  2.56182153e-01],\n",
       "       [-3.50900313e-01,  1.11247090e+00, -8.69646956e-01,\n",
       "         2.45643025e-01, -1.10686182e-01],\n",
       "       [ 6.11422629e-01,  8.30692144e-01, -2.15181854e-01,\n",
       "        -1.66403712e+00, -4.44222052e-01],\n",
       "       [-1.87726960e-01, -9.25819860e-01, -1.31643054e+00,\n",
       "        -1.04125035e-01, -1.96959657e-02],\n",
       "       [-9.10001600e-02, -5.57856308e-01, -9.13486064e-01,\n",
       "        -5.52657426e-01,  2.47756318e-01],\n",
       "       [-6.12135587e-01,  2.06483288e-01,  9.80179537e-02,\n",
       "        -7.97416339e-01,  1.97622432e-01],\n",
       "       [-4.07879879e-01, -8.43296808e-02, -8.13954597e-01,\n",
       "        -9.42409971e-01,  1.22141534e-01],\n",
       "       [-1.78858137e-01,  8.63258976e-01, -4.81605839e-01,\n",
       "        -5.69843133e-01, -1.25621909e-01],\n",
       "       [-7.36872893e-01,  6.78890900e-01, -1.18923769e+00,\n",
       "         4.85575845e-02, -3.11800811e-01],\n",
       "       [-5.76106721e-01, -1.21242826e+00,  1.45345402e-01,\n",
       "        -5.31960303e-01, -1.88202837e-02],\n",
       "       [-8.07464086e-01,  4.46259448e-01, -1.46115012e-01,\n",
       "        -6.64017113e-01,  4.86343883e-02],\n",
       "       [-5.58273461e-01, -1.40981909e-01, -1.05151440e+00,\n",
       "        -1.25807803e-01,  4.02592406e-02],\n",
       "       [-7.93723373e-01, -1.64903317e+00,  1.16540693e-01,\n",
       "        -7.73015598e-01,  7.51809849e-02],\n",
       "       [ 7.34740067e-01, -1.40802778e+00,  7.64446132e-01,\n",
       "        -2.13554818e-01,  1.79655500e-01],\n",
       "       [-6.00908758e-01, -5.87812574e-01, -1.37945518e+00,\n",
       "        -5.28804560e-01, -2.99460861e-01],\n",
       "       [-1.28751906e+00, -8.75199230e-01,  1.13434784e-01,\n",
       "        -7.38283494e-01,  1.82450854e-01],\n",
       "       [-4.00692175e-01,  6.54422888e-01, -5.70505808e-01,\n",
       "        -1.97065756e-01,  3.69140716e-02],\n",
       "       [-2.80048514e-01,  1.17520545e+00,  1.67490005e-01,\n",
       "        -1.28938499e+00,  7.83980081e-03],\n",
       "       [-1.80434220e+00,  3.78535844e+00, -1.94085533e+00,\n",
       "         1.56630864e+00,  9.67155104e-02],\n",
       "       [-4.59391094e-01,  1.96302637e-01, -4.47234720e-01,\n",
       "        -1.12717127e+00,  4.92315133e-03]])"
      ]
     },
     "execution_count": 24,
     "metadata": {},
     "output_type": "execute_result"
    }
   ],
   "source": [
    "from sklearn.decomposition import PCA\n",
    "X = df_scaled_data.drop('Putative Cell Type', axis=1)\n",
    "y = df_scaled_data['Putative Cell Type']\n",
    "pca = PCA(n_components=5)\n",
    "\n",
    "pca.fit_transform(X)"
   ]
  },
  {
   "cell_type": "code",
   "execution_count": 26,
   "id": "b0f24d53-c1df-46c8-9b92-15651916390e",
   "metadata": {},
   "outputs": [
    {
     "name": "stdout",
     "output_type": "stream",
     "text": [
      "Accuracy on training set 1.0\n",
      "Accuracy on test set 0.7647058823529411\n"
     ]
    }
   ],
   "source": [
    "from sklearn.model_selection import train_test_split\n",
    "from sklearn.metrics import accuracy_score\n",
    "\n",
    "X_train, X_test, y_train, y_test = train_test_split(X, y, random_state=42)\n",
    "\n",
    "clf = RandomForestClassifier(n_estimators=100, max_depth=4)\n",
    "\n",
    "clf.fit(X_train, y_train)\n",
    "\n",
    "print(\"Accuracy on training set {}\".format(clf.score(X_train, y_train)))\n",
    "\n",
    "y_pred = clf.predict(X_test)\n",
    "\n",
    "print(\"Accuracy on test set {}\".format(accuracy_score(y_test, y_pred)))"
   ]
  },
  {
   "cell_type": "code",
   "execution_count": 28,
   "id": "6578af83-3e08-4b93-8e14-1c3b8e348387",
   "metadata": {},
   "outputs": [
    {
     "name": "stdout",
     "output_type": "stream",
     "text": [
      "The PCA explained variance is [2.6196065  1.04111819 0.90869641 0.43550276 0.07083371] While the variance ratio is [0.51610158 0.20511582 0.17902676 0.08580054 0.0139553 ]\n"
     ]
    }
   ],
   "source": [
    "print ('The PCA explained variance is', pca.explained_variance_, 'While the variance ratio is', pca.explained_variance_ratio_)"
   ]
  },
  {
   "cell_type": "code",
   "execution_count": 29,
   "id": "a9c26683-f9c4-4aa2-b925-5c46b28025f1",
   "metadata": {},
   "outputs": [
    {
     "data": {
      "image/png": "[encoded data removed]",
      "text/plain": [
       "<Figure size 1400x600 with 1 Axes>"
      ]
     },
     "metadata": {},
     "output_type": "display_data"
    }
   ],
   "source": [
    "# Bar plot of explained_variance\n",
    "plt.bar(range(1,len(pca.explained_variance_ratio_)+1), pca.explained_variance_ratio_)\n",
    "plt.xlabel('PCA Feature')\n",
    "plt.ylabel('Explained variance')\n",
    "plt.title('Feature Explained Variance')\n",
    "plt.show()"
   ]
  }
 ],
 "metadata": {
  "kernelspec": {
   "display_name": "Python 3 (ipykernel)",
   "language": "python",
   "name": "python3"
  },
  "language_info": {
   "codemirror_mode": {
    "name": "ipython",
    "version": 3
   },
   "file_extension": ".py",
   "mimetype": "text/x-python",
   "name": "python",
   "nbconvert_exporter": "python",
   "pygments_lexer": "ipython3",
   "version": "3.10.9"
  }
 },
 "nbformat": 4,
 "nbformat_minor": 5
}
