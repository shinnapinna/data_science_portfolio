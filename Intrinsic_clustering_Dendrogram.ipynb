{
 "cells": [
  {
   "cell_type": "markdown",
   "id": "d814873c-e183-4c62-83a7-0e5e5ca450dc",
   "metadata": {},
   "source": [
    "# Intrinsic Intrinsic properties - Clustering with Dendrogram\n",
    "\n",
    "<img src='images/Cluster_eg.PNG' alt='Drawing' style=\"width: 350px;\"/>"
   ]
  },
  {
   "cell_type": "code",
   "execution_count": 1,
   "id": "68113d4e-3d92-4f28-82b6-85d3abf53788",
   "metadata": {},
   "outputs": [
    {
     "name": "stdout",
     "output_type": "stream",
     "text": [
      "<class 'pandas.core.frame.DataFrame'>\n",
      "RangeIndex: 67 entries, 0 to 66\n",
      "Data columns (total 6 columns):\n",
      " #   Column              Non-Null Count  Dtype  \n",
      "---  ------              --------------  -----  \n",
      " 0   Delay               67 non-null     float64\n",
      " 1   Rheobase            67 non-null     float64\n",
      " 2   Rin                 67 non-null     float64\n",
      " 3   tau                 67 non-null     float64\n",
      " 4   Max                 67 non-null     float64\n",
      " 5   Putative Cell Type  67 non-null     object \n",
      "dtypes: float64(5), object(1)\n",
      "memory usage: 3.3+ KB\n",
      "None\n"
     ]
    },
    {
     "data": {
      "text/html": [
       "<div>\n",
       "<style scoped>\n",
       "    .dataframe tbody tr th:only-of-type {\n",
       "        vertical-align: middle;\n",
       "    }\n",
       "\n",
       "    .dataframe tbody tr th {\n",
       "        vertical-align: top;\n",
       "    }\n",
       "\n",
       "    .dataframe thead th {\n",
       "        text-align: right;\n",
       "    }\n",
       "</style>\n",
       "<table border=\"1\" class=\"dataframe\">\n",
       "  <thead>\n",
       "    <tr style=\"text-align: right;\">\n",
       "      <th></th>\n",
       "      <th>Delay</th>\n",
       "      <th>Rheobase</th>\n",
       "      <th>Rin</th>\n",
       "      <th>tau</th>\n",
       "      <th>Max</th>\n",
       "      <th>Putative Cell Type</th>\n",
       "    </tr>\n",
       "  </thead>\n",
       "  <tbody>\n",
       "    <tr>\n",
       "      <th>0</th>\n",
       "      <td>27.90</td>\n",
       "      <td>75.8</td>\n",
       "      <td>258.000</td>\n",
       "      <td>12.3000</td>\n",
       "      <td>143.0</td>\n",
       "      <td>VIP+</td>\n",
       "    </tr>\n",
       "    <tr>\n",
       "      <th>1</th>\n",
       "      <td>331.90</td>\n",
       "      <td>44.8</td>\n",
       "      <td>412.000</td>\n",
       "      <td>13.4708</td>\n",
       "      <td>66.0</td>\n",
       "      <td>VIP+</td>\n",
       "    </tr>\n",
       "    <tr>\n",
       "      <th>2</th>\n",
       "      <td>134.80</td>\n",
       "      <td>36.0</td>\n",
       "      <td>536.500</td>\n",
       "      <td>23.9807</td>\n",
       "      <td>64.0</td>\n",
       "      <td>VIP+</td>\n",
       "    </tr>\n",
       "    <tr>\n",
       "      <th>3</th>\n",
       "      <td>176.80</td>\n",
       "      <td>26.6</td>\n",
       "      <td>692.000</td>\n",
       "      <td>27.1597</td>\n",
       "      <td>25.0</td>\n",
       "      <td>VIP+</td>\n",
       "    </tr>\n",
       "    <tr>\n",
       "      <th>4</th>\n",
       "      <td>41.42</td>\n",
       "      <td>104.0</td>\n",
       "      <td>318.632</td>\n",
       "      <td>13.0589</td>\n",
       "      <td>30.0</td>\n",
       "      <td>VIP+</td>\n",
       "    </tr>\n",
       "  </tbody>\n",
       "</table>\n",
       "</div>"
      ],
      "text/plain": [
       "    Delay  Rheobase      Rin      tau    Max Putative Cell Type\n",
       "0   27.90      75.8  258.000  12.3000  143.0               VIP+\n",
       "1  331.90      44.8  412.000  13.4708   66.0               VIP+\n",
       "2  134.80      36.0  536.500  23.9807   64.0               VIP+\n",
       "3  176.80      26.6  692.000  27.1597   25.0               VIP+\n",
       "4   41.42     104.0  318.632  13.0589   30.0               VIP+"
      ]
     },
     "execution_count": 1,
     "metadata": {},
     "output_type": "execute_result"
    }
   ],
   "source": [
    "import pandas as pd \n",
    "import numpy as np \n",
    "import seaborn as sns \n",
    "import matplotlib.pyplot as plt\n",
    "\n",
    "\n",
    "data = pd.read_csv(\"../datasets/Project_datasets/intrinsic_cluster_analysis.csv\")\n",
    "cleaned_data = data.drop(['Unnamed: 0'], axis = 1) #drop unwanted columns\n",
    "cleaned_data.rename(columns={'Unnamed: 6':'Putative Cell Type'}, inplace=True) #Rename Column with putative cell type\n",
    "cleaned_data.loc[0:16, 'Putative Cell Type'] = 'VIP+'\n",
    "cleaned_data.loc[17:45, 'Putative Cell Type'] = 'NDNF-Like'\n",
    "cleaned_data.loc[46:, 'Putative Cell Type'] = 'Jini Cells'\n",
    "print(cleaned_data.info())\n",
    "cleaned_data.head(5)"
   ]
  },
  {
   "cell_type": "code",
   "execution_count": 2,
   "id": "0336ad8b-0068-40a9-ad87-71b8eb65d043",
   "metadata": {},
   "outputs": [
    {
     "data": {
      "text/html": [
       "<div>\n",
       "<style scoped>\n",
       "    .dataframe tbody tr th:only-of-type {\n",
       "        vertical-align: middle;\n",
       "    }\n",
       "\n",
       "    .dataframe tbody tr th {\n",
       "        vertical-align: top;\n",
       "    }\n",
       "\n",
       "    .dataframe thead th {\n",
       "        text-align: right;\n",
       "    }\n",
       "</style>\n",
       "<table border=\"1\" class=\"dataframe\">\n",
       "  <thead>\n",
       "    <tr style=\"text-align: right;\">\n",
       "      <th></th>\n",
       "      <th>Delay</th>\n",
       "      <th>Rheobase</th>\n",
       "      <th>Rin</th>\n",
       "      <th>tau</th>\n",
       "      <th>Max</th>\n",
       "      <th>Putative Cell Type</th>\n",
       "    </tr>\n",
       "  </thead>\n",
       "  <tbody>\n",
       "    <tr>\n",
       "      <th>0</th>\n",
       "      <td>27.90</td>\n",
       "      <td>75.8</td>\n",
       "      <td>258.000</td>\n",
       "      <td>12.3000</td>\n",
       "      <td>143.0</td>\n",
       "      <td>VIP+</td>\n",
       "    </tr>\n",
       "    <tr>\n",
       "      <th>1</th>\n",
       "      <td>331.90</td>\n",
       "      <td>44.8</td>\n",
       "      <td>412.000</td>\n",
       "      <td>13.4708</td>\n",
       "      <td>66.0</td>\n",
       "      <td>VIP+</td>\n",
       "    </tr>\n",
       "    <tr>\n",
       "      <th>2</th>\n",
       "      <td>134.80</td>\n",
       "      <td>36.0</td>\n",
       "      <td>536.500</td>\n",
       "      <td>23.9807</td>\n",
       "      <td>64.0</td>\n",
       "      <td>VIP+</td>\n",
       "    </tr>\n",
       "    <tr>\n",
       "      <th>3</th>\n",
       "      <td>176.80</td>\n",
       "      <td>26.6</td>\n",
       "      <td>692.000</td>\n",
       "      <td>27.1597</td>\n",
       "      <td>25.0</td>\n",
       "      <td>VIP+</td>\n",
       "    </tr>\n",
       "    <tr>\n",
       "      <th>4</th>\n",
       "      <td>41.42</td>\n",
       "      <td>104.0</td>\n",
       "      <td>318.632</td>\n",
       "      <td>13.0589</td>\n",
       "      <td>30.0</td>\n",
       "      <td>VIP+</td>\n",
       "    </tr>\n",
       "  </tbody>\n",
       "</table>\n",
       "</div>"
      ],
      "text/plain": [
       "    Delay  Rheobase      Rin      tau    Max Putative Cell Type\n",
       "0   27.90      75.8  258.000  12.3000  143.0               VIP+\n",
       "1  331.90      44.8  412.000  13.4708   66.0               VIP+\n",
       "2  134.80      36.0  536.500  23.9807   64.0               VIP+\n",
       "3  176.80      26.6  692.000  27.1597   25.0               VIP+\n",
       "4   41.42     104.0  318.632  13.0589   30.0               VIP+"
      ]
     },
     "execution_count": 2,
     "metadata": {},
     "output_type": "execute_result"
    }
   ],
   "source": [
    "df = cleaned_data\n",
    "df.head()"
   ]
  },
  {
   "cell_type": "code",
   "execution_count": 3,
   "id": "7d42bd5e-919f-4e09-b25f-7d95b0caaa3a",
   "metadata": {},
   "outputs": [
    {
     "data": {
      "text/html": [
       "<div>\n",
       "<style scoped>\n",
       "    .dataframe tbody tr th:only-of-type {\n",
       "        vertical-align: middle;\n",
       "    }\n",
       "\n",
       "    .dataframe tbody tr th {\n",
       "        vertical-align: top;\n",
       "    }\n",
       "\n",
       "    .dataframe thead th {\n",
       "        text-align: right;\n",
       "    }\n",
       "</style>\n",
       "<table border=\"1\" class=\"dataframe\">\n",
       "  <thead>\n",
       "    <tr style=\"text-align: right;\">\n",
       "      <th></th>\n",
       "      <th>Delay</th>\n",
       "      <th>Rheobase</th>\n",
       "      <th>Rin</th>\n",
       "      <th>tau</th>\n",
       "      <th>Max</th>\n",
       "    </tr>\n",
       "    <tr>\n",
       "      <th>Putative Cell Type</th>\n",
       "      <th></th>\n",
       "      <th></th>\n",
       "      <th></th>\n",
       "      <th></th>\n",
       "      <th></th>\n",
       "    </tr>\n",
       "  </thead>\n",
       "  <tbody>\n",
       "    <tr>\n",
       "      <th>VIP+</th>\n",
       "      <td>27.90</td>\n",
       "      <td>75.8</td>\n",
       "      <td>258.000</td>\n",
       "      <td>12.3000</td>\n",
       "      <td>143.0</td>\n",
       "    </tr>\n",
       "    <tr>\n",
       "      <th>VIP+</th>\n",
       "      <td>331.90</td>\n",
       "      <td>44.8</td>\n",
       "      <td>412.000</td>\n",
       "      <td>13.4708</td>\n",
       "      <td>66.0</td>\n",
       "    </tr>\n",
       "    <tr>\n",
       "      <th>VIP+</th>\n",
       "      <td>134.80</td>\n",
       "      <td>36.0</td>\n",
       "      <td>536.500</td>\n",
       "      <td>23.9807</td>\n",
       "      <td>64.0</td>\n",
       "    </tr>\n",
       "    <tr>\n",
       "      <th>VIP+</th>\n",
       "      <td>176.80</td>\n",
       "      <td>26.6</td>\n",
       "      <td>692.000</td>\n",
       "      <td>27.1597</td>\n",
       "      <td>25.0</td>\n",
       "    </tr>\n",
       "    <tr>\n",
       "      <th>VIP+</th>\n",
       "      <td>41.42</td>\n",
       "      <td>104.0</td>\n",
       "      <td>318.632</td>\n",
       "      <td>13.0589</td>\n",
       "      <td>30.0</td>\n",
       "    </tr>\n",
       "  </tbody>\n",
       "</table>\n",
       "</div>"
      ],
      "text/plain": [
       "                     Delay  Rheobase      Rin      tau    Max\n",
       "Putative Cell Type                                           \n",
       "VIP+                 27.90      75.8  258.000  12.3000  143.0\n",
       "VIP+                331.90      44.8  412.000  13.4708   66.0\n",
       "VIP+                134.80      36.0  536.500  23.9807   64.0\n",
       "VIP+                176.80      26.6  692.000  27.1597   25.0\n",
       "VIP+                 41.42     104.0  318.632  13.0589   30.0"
      ]
     },
     "execution_count": 3,
     "metadata": {},
     "output_type": "execute_result"
    }
   ],
   "source": [
    "df.set_index('Putative Cell Type', inplace=True) #make putative cell type an index so as to not cause issues with dendrogram\n",
    "df.head()"
   ]
  },
  {
   "cell_type": "markdown",
   "id": "cbd51525-a0d3-455e-b619-0610e250165e",
   "metadata": {},
   "source": [
    "### Agglomerative Hierarchical Clustering with Sci-kit Learn"
   ]
  },
  {
   "cell_type": "code",
   "execution_count": 4,
   "id": "1da8e36d-e247-443e-9af0-6f103e98583a",
   "metadata": {
    "tags": []
   },
   "outputs": [
    {
     "name": "stdout",
     "output_type": "stream",
     "text": [
      "[0 0 0 1 0 1 1 1 1 1 1 1 1 0 1 1 1 0 0 0 0 0 0 0 0 0 0 0 0 0 0 0 0 0 0 0 0\n",
      " 0 0 0 0 0 0 0 0 0 0 0 0 0 0 0 0 0 0 0 0 0 0 0 0 0 0 0 0 0 0]\n"
     ]
    }
   ],
   "source": [
    "from sklearn.cluster import AgglomerativeClustering\n",
    "from scipy.cluster.hierarchy import linkage, dendrogram, cut_tree\n",
    "\n",
    "\n",
    "hierarchical_cluster = AgglomerativeClustering(n_clusters=2, metric='euclidean', linkage='ward')\n",
    "labels = hierarchical_cluster.fit_predict(df) \n",
    "print (labels)"
   ]
  },
  {
   "cell_type": "code",
   "execution_count": 7,
   "id": "559dacb2-427d-4ac3-8cb4-4b0ea88baf00",
   "metadata": {},
   "outputs": [],
   "source": [
    "from scipy.cluster import hierarchy"
   ]
  },
  {
   "cell_type": "code",
   "execution_count": 18,
   "id": "10e617d8-7e1f-47a5-a78f-fad943228307",
   "metadata": {
    "tags": []
   },
   "outputs": [
    {
     "data": {
      "image/png": "[encoded data removed]",
      "text/plain": [
       "<Figure size 640x480 with 1 Axes>"
      ]
     },
     "metadata": {},
     "output_type": "display_data"
    }
   ],
   "source": [
    "linkage_data = linkage(df, method='ward', metric='euclidean')\n",
    "hierarchy.set_link_color_palette(['#5f187f','#d3436e'])\n",
    "\n",
    "dendrogram(linkage_data, leaf_font_size=5, labels=df.index, color_threshold=1240, above_threshold_color='black')\n",
    "plt.axhline(y=1240, c='grey', lw=1, linestyle='dashed')\n",
    "plt.show()"
   ]
  },
  {
   "cell_type": "code",
   "execution_count": 23,
   "id": "06c7b67f-c5c2-4e0f-8f2b-95b759900ade",
   "metadata": {},
   "outputs": [
    {
     "data": {
      "image/png": "[encoded data removed]",
      "text/plain": [
       "<Figure size 640x480 with 1 Axes>"
      ]
     },
     "metadata": {},
     "output_type": "display_data"
    }
   ],
   "source": [
    "linkage_complete = linkage(df, method='complete', metric='euclidean')\n",
    "hierarchy.set_link_color_palette(['#e8000b','#ffc400'])\n",
    "\n",
    "dendrogram(linkage_complete, leaf_font_size=5, labels=df.index, color_threshold=750, above_threshold_color='black')\n",
    "plt.axhline(y=750, c='black', lw=1, linestyle='dashed')\n",
    "plt.show()"
   ]
  },
  {
   "cell_type": "markdown",
   "id": "45750f1a-d008-4847-bee0-d3814830912c",
   "metadata": {},
   "source": [
    "pal = sns.color_palette('bright')\n",
    "print (pal.as_hex())\n",
    "pal.as_hex()"
   ]
  },
  {
   "cell_type": "code",
   "execution_count": 24,
   "id": "a39d8218-3a74-4ead-ae89-599715874e49",
   "metadata": {},
   "outputs": [],
   "source": [
    "cleaned_data.reset_index(inplace=True) #reset index"
   ]
  },
  {
   "cell_type": "code",
   "execution_count": 25,
   "id": "9a1c827f-432f-4c30-9ad8-d2d8dc97e873",
   "metadata": {},
   "outputs": [
    {
     "data": {
      "text/html": [
       "<div>\n",
       "<style scoped>\n",
       "    .dataframe tbody tr th:only-of-type {\n",
       "        vertical-align: middle;\n",
       "    }\n",
       "\n",
       "    .dataframe tbody tr th {\n",
       "        vertical-align: top;\n",
       "    }\n",
       "\n",
       "    .dataframe thead th {\n",
       "        text-align: right;\n",
       "    }\n",
       "</style>\n",
       "<table border=\"1\" class=\"dataframe\">\n",
       "  <thead>\n",
       "    <tr style=\"text-align: right;\">\n",
       "      <th></th>\n",
       "      <th>Putative Cell Type</th>\n",
       "      <th>Delay</th>\n",
       "      <th>Rheobase</th>\n",
       "      <th>Rin</th>\n",
       "      <th>tau</th>\n",
       "      <th>Max</th>\n",
       "      <th>dendrogram_ncluster_2</th>\n",
       "    </tr>\n",
       "  </thead>\n",
       "  <tbody>\n",
       "    <tr>\n",
       "      <th>0</th>\n",
       "      <td>VIP+</td>\n",
       "      <td>27.90</td>\n",
       "      <td>75.8</td>\n",
       "      <td>258.000</td>\n",
       "      <td>12.3000</td>\n",
       "      <td>143.0</td>\n",
       "      <td>NDNF-like</td>\n",
       "    </tr>\n",
       "    <tr>\n",
       "      <th>1</th>\n",
       "      <td>VIP+</td>\n",
       "      <td>331.90</td>\n",
       "      <td>44.8</td>\n",
       "      <td>412.000</td>\n",
       "      <td>13.4708</td>\n",
       "      <td>66.0</td>\n",
       "      <td>NDNF-like</td>\n",
       "    </tr>\n",
       "    <tr>\n",
       "      <th>2</th>\n",
       "      <td>VIP+</td>\n",
       "      <td>134.80</td>\n",
       "      <td>36.0</td>\n",
       "      <td>536.500</td>\n",
       "      <td>23.9807</td>\n",
       "      <td>64.0</td>\n",
       "      <td>NDNF-like</td>\n",
       "    </tr>\n",
       "    <tr>\n",
       "      <th>3</th>\n",
       "      <td>VIP+</td>\n",
       "      <td>176.80</td>\n",
       "      <td>26.6</td>\n",
       "      <td>692.000</td>\n",
       "      <td>27.1597</td>\n",
       "      <td>25.0</td>\n",
       "      <td>VIP+</td>\n",
       "    </tr>\n",
       "    <tr>\n",
       "      <th>4</th>\n",
       "      <td>VIP+</td>\n",
       "      <td>41.42</td>\n",
       "      <td>104.0</td>\n",
       "      <td>318.632</td>\n",
       "      <td>13.0589</td>\n",
       "      <td>30.0</td>\n",
       "      <td>NDNF-like</td>\n",
       "    </tr>\n",
       "  </tbody>\n",
       "</table>\n",
       "</div>"
      ],
      "text/plain": [
       "  Putative Cell Type   Delay  Rheobase      Rin      tau    Max  \\\n",
       "0               VIP+   27.90      75.8  258.000  12.3000  143.0   \n",
       "1               VIP+  331.90      44.8  412.000  13.4708   66.0   \n",
       "2               VIP+  134.80      36.0  536.500  23.9807   64.0   \n",
       "3               VIP+  176.80      26.6  692.000  27.1597   25.0   \n",
       "4               VIP+   41.42     104.0  318.632  13.0589   30.0   \n",
       "\n",
       "  dendrogram_ncluster_2  \n",
       "0             NDNF-like  \n",
       "1             NDNF-like  \n",
       "2             NDNF-like  \n",
       "3                  VIP+  \n",
       "4             NDNF-like  "
      ]
     },
     "execution_count": 25,
     "metadata": {},
     "output_type": "execute_result"
    }
   ],
   "source": [
    "df_concat = pd.concat([cleaned_data, pd.DataFrame(labels, columns =['dendrogram_ncluster_2'])], axis=1)\n",
    "df_concat['dendrogram_ncluster_2'].replace({0:'NDNF-like', 1:'VIP+'}, inplace = True)\n",
    "df_concat.head()"
   ]
  }
 ],
 "metadata": {
  "kernelspec": {
   "display_name": "Python 3 (ipykernel)",
   "language": "python",
   "name": "python3"
  },
  "language_info": {
   "codemirror_mode": {
    "name": "ipython",
    "version": 3
   },
   "file_extension": ".py",
   "mimetype": "text/x-python",
   "name": "python",
   "nbconvert_exporter": "python",
   "pygments_lexer": "ipython3",
   "version": "3.10.9"
  }
 },
 "nbformat": 4,
 "nbformat_minor": 5
}
